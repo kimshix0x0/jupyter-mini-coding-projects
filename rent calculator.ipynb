{
 "cells": [
  {
   "cell_type": "markdown",
   "id": "47f6617e-b1dd-47c0-b767-1c8b989451af",
   "metadata": {},
   "source": [
    "input we need from the user\n",
    "-> Total rent\n",
    "-> Total food ordered for snacking  \n",
    "-> electricity units spend\n",
    "-> charge per unit\n",
    "->persond living in a room/flat\n",
    "\n",
    "output\n",
    "-> tital amount you hav to pay"
   ]
  },
  {
   "cell_type": "code",
   "execution_count": 3,
   "id": "fbf42059-3305-4619-9122-d33bd59b4ed0",
   "metadata": {},
   "outputs": [
    {
     "name": "stdin",
     "output_type": "stream",
     "text": [
      "Enter your hostel/flat rent= 500\n",
      "Enter amount of food ordered= 500\n",
      "Enter electricity rent= 500\n",
      "Enter charge perunit= 500\n",
      "Enter number of people living in a room/flat= 500\n"
     ]
    },
    {
     "name": "stdout",
     "output_type": "stream",
     "text": [
      "Each person will pay= 502\n"
     ]
    }
   ],
   "source": [
    "rent = int(input(\"Enter your hostel/flat rent=\"))\n",
    "food = int(input(\"Enter amount of food ordered=\"))\n",
    "electricity =int(input(\"Enter electricity rent=\"))\n",
    "charge_per_unit= int(input(\"Enter charge perunit=\"))\n",
    "people= int(input(\"Enter number of people living in a room/flat=\"))\n",
    "\n",
    "total_bill = electricity * charge_per_unit\n",
    "op= (food +rent+total_bill)// people\n",
    "print(\"Each person will pay=\", op )"
   ]
  },
  {
   "cell_type": "code",
   "execution_count": null,
   "id": "ca3648fe-8f69-4b24-961f-2dffc0e343b1",
   "metadata": {},
   "outputs": [],
   "source": []
  }
 ],
 "metadata": {
  "kernelspec": {
   "display_name": "Python 3 (ipykernel)",
   "language": "python",
   "name": "python3"
  },
  "language_info": {
   "codemirror_mode": {
    "name": "ipython",
    "version": 3
   },
   "file_extension": ".py",
   "mimetype": "text/x-python",
   "name": "python",
   "nbconvert_exporter": "python",
   "pygments_lexer": "ipython3",
   "version": "3.12.3"
  }
 },
 "nbformat": 4,
 "nbformat_minor": 5
}
